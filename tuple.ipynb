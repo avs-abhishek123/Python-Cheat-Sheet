{
  "nbformat": 4,
  "nbformat_minor": 0,
  "metadata": {
    "colab": {
      "name": "tuple.ipynb",
      "provenance": []
    },
    "kernelspec": {
      "name": "python3",
      "display_name": "Python 3"
    },
    "language_info": {
      "name": "python"
    }
  },
  "cells": [
    {
      "cell_type": "markdown",
      "metadata": {
        "id": "xYtzqW8BBc9R"
      },
      "source": [
        "Tuple = ()\n",
        "1. immutable\n",
        "2. ordered\n",
        "3. allows duplicate elements\n",
        "\n",
        "Built-in immutable sequence.\n",
        "\n",
        "\n",
        "If iterable is specified the tuple is initialized from iterable's items.\n",
        "\n",
        "If the argument is a tuple, the return value is the same object."
      ]
    },
    {
      "cell_type": "code",
      "metadata": {
        "colab": {
          "base_uri": "https://localhost:8080/"
        },
        "id": "acp1KKQuBXY_",
        "outputId": "d0f87b99-c36a-405c-e1aa-f93b110dad1d"
      },
      "source": [
        "#mytuple=(\"Max\",28,\"Austin\")\n",
        "empty=()\n",
        "print(empty)\n",
        "#If no argument is given, the constructor returns an empty tuple.\n",
        "mytuple=\"Max\",28,\"Austin\"\n",
        "#even if u sont put paranthesis, it is tuple\n",
        "print(mytuple)"
      ],
      "execution_count": null,
      "outputs": [
        {
          "output_type": "stream",
          "text": [
            "()\n",
            "('Max', 28, 'Austin')\n"
          ],
          "name": "stdout"
        }
      ]
    },
    {
      "cell_type": "code",
      "metadata": {
        "colab": {
          "base_uri": "https://localhost:8080/"
        },
        "id": "bdyy5lZ0B6LM",
        "outputId": "89a4955d-84af-4e4e-a3a9-6dec92dce293"
      },
      "source": [
        "mytuple_1_element=(\"Max\")\n",
        "print(mytuple_1_element)\n",
        "#not recognized as a tuple if single element even if we keep parenthesis\n",
        "print(type(mytuple_1_element))\n",
        "\n",
        "#To make a single element as tuple, u need to put a comma\n",
        "mytuple_1_element_with_comma=(\"Max\",)\n",
        "print(mytuple_1_element_with_comma)\n",
        "print(type(mytuple_1_element_with_comma))"
      ],
      "execution_count": null,
      "outputs": [
        {
          "output_type": "stream",
          "text": [
            "Max\n",
            "<class 'str'>\n",
            "('Max',)\n",
            "<class 'tuple'>\n"
          ],
          "name": "stdout"
        }
      ]
    },
    {
      "cell_type": "markdown",
      "metadata": {
        "id": "fzPlxQ6lYxfC"
      },
      "source": [
        "tuple()"
      ]
    },
    {
      "cell_type": "code",
      "metadata": {
        "id": "sn16eWMDCrpa",
        "colab": {
          "base_uri": "https://localhost:8080/"
        },
        "outputId": "c0cc2ded-96d4-4d68-8813-391ae17c496e"
      },
      "source": [
        "mt=tuple([\"Max\",28,\"Boston\"])\n",
        "print(mt)\n",
        "item= mt[0]\n",
        "print(item)\n",
        "itemneg= mt[-1]\n",
        "print(itemneg)"
      ],
      "execution_count": null,
      "outputs": [
        {
          "output_type": "stream",
          "text": [
            "('Max', 28, 'Boston')\n",
            "Max\n",
            "Boston\n"
          ],
          "name": "stdout"
        }
      ]
    },
    {
      "cell_type": "code",
      "metadata": {
        "colab": {
          "base_uri": "https://localhost:8080/",
          "height": 178
        },
        "id": "bv1IzGgRZRO9",
        "outputId": "4950234c-14e5-4d2e-e8b5-b0f10a4305a9"
      },
      "source": [
        "mt[0]=\"Tim\"\n",
        "#error"
      ],
      "execution_count": null,
      "outputs": [
        {
          "output_type": "error",
          "ename": "TypeError",
          "evalue": "ignored",
          "traceback": [
            "\u001b[0;31m---------------------------------------------------------------------------\u001b[0m",
            "\u001b[0;31mTypeError\u001b[0m                                 Traceback (most recent call last)",
            "\u001b[0;32m<ipython-input-34-4ce527277573>\u001b[0m in \u001b[0;36m<module>\u001b[0;34m()\u001b[0m\n\u001b[0;32m----> 1\u001b[0;31m \u001b[0mmt\u001b[0m\u001b[0;34m[\u001b[0m\u001b[0;36m0\u001b[0m\u001b[0;34m]\u001b[0m\u001b[0;34m=\u001b[0m\u001b[0;34m\"Tim\"\u001b[0m\u001b[0;34m\u001b[0m\u001b[0;34m\u001b[0m\u001b[0m\n\u001b[0m\u001b[1;32m      2\u001b[0m \u001b[0;31m#error\u001b[0m\u001b[0;34m\u001b[0m\u001b[0;34m\u001b[0m\u001b[0;34m\u001b[0m\u001b[0m\n",
            "\u001b[0;31mTypeError\u001b[0m: 'tuple' object does not support item assignment"
          ]
        }
      ]
    },
    {
      "cell_type": "code",
      "metadata": {
        "id": "Pqh1lJbiZXvd"
      },
      "source": [
        "for i in mt:\n",
        "  print(i)"
      ],
      "execution_count": null,
      "outputs": []
    },
    {
      "cell_type": "code",
      "metadata": {
        "colab": {
          "base_uri": "https://localhost:8080/"
        },
        "id": "qYA_FrBgZcZf",
        "outputId": "2a33189f-cb07-4973-b255-98473ac27195"
      },
      "source": [
        "if \"Max\" in mt:\n",
        "  print(\"Yes\")\n",
        "else:\n",
        "  print(\"No\")"
      ],
      "execution_count": null,
      "outputs": [
        {
          "output_type": "stream",
          "text": [
            "Yes\n"
          ],
          "name": "stdout"
        }
      ]
    },
    {
      "cell_type": "markdown",
      "metadata": {
        "id": "2j7LZa0bZ1Iq"
      },
      "source": [
        "len()"
      ]
    },
    {
      "cell_type": "code",
      "metadata": {
        "colab": {
          "base_uri": "https://localhost:8080/"
        },
        "id": "ypNUHLGHZj7x",
        "outputId": "26a4dfe8-ec3e-4bda-a4b8-4f55ff47ef10"
      },
      "source": [
        "mta=(\"a\",'b','a','d','e')\n",
        "print(len(mta))"
      ],
      "execution_count": null,
      "outputs": [
        {
          "output_type": "stream",
          "text": [
            "5\n"
          ],
          "name": "stdout"
        }
      ]
    },
    {
      "cell_type": "markdown",
      "metadata": {
        "id": "6yEot7iiZ5oZ"
      },
      "source": [
        ".count()"
      ]
    },
    {
      "cell_type": "code",
      "metadata": {
        "colab": {
          "base_uri": "https://localhost:8080/"
        },
        "id": "5RWT5V9pZ2kh",
        "outputId": "b48014f9-fa39-4f24-908e-d418fa539845"
      },
      "source": [
        "print(mta.count('a'))\n",
        "print(mta.count('o'))"
      ],
      "execution_count": null,
      "outputs": [
        {
          "output_type": "stream",
          "text": [
            "2\n",
            "0\n"
          ],
          "name": "stdout"
        }
      ]
    },
    {
      "cell_type": "markdown",
      "metadata": {
        "id": "QXAac3BDaXRt"
      },
      "source": [
        ".index() # index of the 1st element"
      ]
    },
    {
      "cell_type": "code",
      "metadata": {
        "colab": {
          "base_uri": "https://localhost:8080/"
        },
        "id": "YWh2rf66aD2Z",
        "outputId": "fd81b25f-2f9f-4c9d-b6d6-ecb537405b83"
      },
      "source": [
        "print(mta.index('a'))"
      ],
      "execution_count": null,
      "outputs": [
        {
          "output_type": "stream",
          "text": [
            "0\n"
          ],
          "name": "stdout"
        }
      ]
    },
    {
      "cell_type": "code",
      "metadata": {
        "colab": {
          "base_uri": "https://localhost:8080/"
        },
        "id": "gj9UtiQUaUgr",
        "outputId": "d9187d93-dd3c-4a46-83ab-f29cb21a4fbd"
      },
      "source": [
        "ml=list(mta)\n",
        "print(ml)\n",
        "\n",
        "mta2 =tuple(ml)\n",
        "print(mta2)\n",
        "print(mta)"
      ],
      "execution_count": null,
      "outputs": [
        {
          "output_type": "stream",
          "text": [
            "['a', 'b', 'a', 'd', 'e']\n",
            "('a', 'b', 'a', 'd', 'e')\n",
            "('a', 'b', 'a', 'd', 'e')\n"
          ],
          "name": "stdout"
        }
      ]
    },
    {
      "cell_type": "markdown",
      "metadata": {
        "id": "DeogyjtfasZn"
      },
      "source": [
        "Slicing"
      ]
    },
    {
      "cell_type": "code",
      "metadata": {
        "colab": {
          "base_uri": "https://localhost:8080/"
        },
        "id": "t_BQrpiram96",
        "outputId": "c9611908-323a-467a-d7f3-314956117d09"
      },
      "source": [
        "a=(1,2,3,4,5,6,7,8,9,10)\n",
        "b=a[2:5]\n",
        "c=a[::2]\n",
        "print(b)\n",
        "print(c)"
      ],
      "execution_count": null,
      "outputs": [
        {
          "output_type": "stream",
          "text": [
            "(3, 4, 5)\n",
            "(1, 3, 5, 7, 9)\n"
          ],
          "name": "stdout"
        }
      ]
    },
    {
      "cell_type": "markdown",
      "metadata": {
        "id": "sdA_Tfi6e4jw"
      },
      "source": [
        "assigning to variable"
      ]
    },
    {
      "cell_type": "code",
      "metadata": {
        "colab": {
          "base_uri": "https://localhost:8080/"
        },
        "id": "FDJLL1S1e063",
        "outputId": "689ee15d-ca4e-492b-e996-44ba1f8fc433"
      },
      "source": [
        "mt=\"Max\",28,\"Boston\"\n",
        "name,age,city=mt\n",
        "print(name)\n",
        "print(age)\n",
        "print(city)\n",
        "#no. of elements shud match to variable"
      ],
      "execution_count": null,
      "outputs": [
        {
          "output_type": "stream",
          "text": [
            "Max\n",
            "28\n",
            "Boston\n"
          ],
          "name": "stdout"
        }
      ]
    },
    {
      "cell_type": "markdown",
      "metadata": {
        "id": "0yfuh4R3frIy"
      },
      "source": [
        "i1,*i2,i3 = 8 for middle all elements"
      ]
    },
    {
      "cell_type": "code",
      "metadata": {
        "colab": {
          "base_uri": "https://localhost:8080/"
        },
        "id": "1WZzJo1VfR5n",
        "outputId": "2b7cdf0c-03ee-4a59-e58b-f9aa74c06dd8"
      },
      "source": [
        "mta=(0,1,2,3,4)\n",
        "i1, *i2, i3 =mta\n",
        "print(i1)\n",
        "print(i3)\n",
        "print(i2)"
      ],
      "execution_count": null,
      "outputs": [
        {
          "output_type": "stream",
          "text": [
            "0\n",
            "4\n",
            "[1, 2, 3]\n"
          ],
          "name": "stdout"
        }
      ]
    },
    {
      "cell_type": "markdown",
      "metadata": {
        "id": "Vh_MBpDhf054"
      },
      "source": [
        "# Compare tuple to list\n",
        "* LIST IS LARGER"
      ]
    },
    {
      "cell_type": "code",
      "metadata": {
        "colab": {
          "base_uri": "https://localhost:8080/"
        },
        "id": "IqI_NbC1fk7G",
        "outputId": "9a419aab-6402-43dd-a9f9-d9e4ff25ac60"
      },
      "source": [
        "import sys\n",
        "ml=[0,1,2,\"hello\",True]\n",
        "mt=(0,1,2,\"hello\",True)\n",
        "print(sys.getsizeof(ml),\"bytes\")\n",
        "print(sys.getsizeof(mt),\"bytes\")"
      ],
      "execution_count": null,
      "outputs": [
        {
          "output_type": "stream",
          "text": [
            "112 bytes\n",
            "96 bytes\n"
          ],
          "name": "stdout"
        }
      ]
    },
    {
      "cell_type": "markdown",
      "metadata": {
        "id": "L5e-GcbWquN8"
      },
      "source": [
        "* LIST TAKES LONGER TIME TO GET CREATED THAN TUPLE"
      ]
    },
    {
      "cell_type": "code",
      "metadata": {
        "colab": {
          "base_uri": "https://localhost:8080/"
        },
        "id": "IUVwPJpdf9Qx",
        "outputId": "39ffdd92-2fa1-4f70-bfaf-feaacdee565c"
      },
      "source": [
        "import timeit\n",
        "print(timeit.timeit(stmt=\"[0,1,2,3,4,5]\",number=1000000))\n",
        "print(timeit.timeit(stmt=\"(0,1,2,3,4,5)\",number=1000000))"
      ],
      "execution_count": null,
      "outputs": [
        {
          "output_type": "stream",
          "text": [
            "0.11488228300004266\n",
            "0.015143886999794631\n"
          ],
          "name": "stdout"
        }
      ]
    },
    {
      "cell_type": "code",
      "metadata": {
        "id": "2iWaZfoHqp6b"
      },
      "source": [
        ""
      ],
      "execution_count": null,
      "outputs": []
    }
  ]
}