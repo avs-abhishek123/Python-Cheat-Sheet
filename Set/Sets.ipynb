{
  "nbformat": 4,
  "nbformat_minor": 0,
  "metadata": {
    "colab": {
      "name": "Sets.ipynb",
      "provenance": []
    },
    "kernelspec": {
      "name": "python3",
      "display_name": "Python 3"
    },
    "language_info": {
      "name": "python"
    }
  },
  "cells": [
    {
      "cell_type": "markdown",
      "metadata": {
        "id": "dGO27h_CuGhs"
      },
      "source": [
        "SETS\n",
        "\n",
        "1. unordered\n",
        "2. mutable\n",
        "3. No duplicates"
      ]
    },
    {
      "cell_type": "code",
      "metadata": {
        "colab": {
          "base_uri": "https://localhost:8080/"
        },
        "id": "_kkhsxIktr1l",
        "outputId": "b95213a1-9405-4c46-c403-2e3d04583ce3"
      },
      "source": [
        "myset={1,2,3}\n",
        "print(myset)"
      ],
      "execution_count": 1,
      "outputs": [
        {
          "output_type": "stream",
          "text": [
            "{1, 2, 3}\n"
          ],
          "name": "stdout"
        }
      ]
    },
    {
      "cell_type": "code",
      "metadata": {
        "colab": {
          "base_uri": "https://localhost:8080/"
        },
        "id": "9GwrAPPIuzUk",
        "outputId": "c5b34b4e-6602-4585-f2a0-ce1d7946835f"
      },
      "source": [
        "myset={1,2,3,1,2}\n",
        "print(myset)"
      ],
      "execution_count": 2,
      "outputs": [
        {
          "output_type": "stream",
          "text": [
            "{1, 2, 3}\n"
          ],
          "name": "stdout"
        }
      ]
    },
    {
      "cell_type": "code",
      "metadata": {
        "colab": {
          "base_uri": "https://localhost:8080/"
        },
        "id": "8tY-aukqu2WC",
        "outputId": "de3ea555-bfdd-40f1-fc08-1ece5a8d9506"
      },
      "source": [
        "myset={1,2,3}\n",
        "print(myset)"
      ],
      "execution_count": 5,
      "outputs": [
        {
          "output_type": "stream",
          "text": [
            "{1, 2, 3}\n"
          ],
          "name": "stdout"
        }
      ]
    },
    {
      "cell_type": "code",
      "metadata": {
        "colab": {
          "base_uri": "https://localhost:8080/"
        },
        "id": "ZT-8kKDjzLDu",
        "outputId": "1c303d60-0e3d-418e-e13f-9f4eb09e9b4a"
      },
      "source": [
        "myset=set({\"Hello\"})\n",
        "print(myset)"
      ],
      "execution_count": 7,
      "outputs": [
        {
          "output_type": "stream",
          "text": [
            "{'Hello'}\n"
          ],
          "name": "stdout"
        }
      ]
    },
    {
      "cell_type": "code",
      "metadata": {
        "colab": {
          "base_uri": "https://localhost:8080/"
        },
        "id": "P7bff33WzOPa",
        "outputId": "f8be4cca-c766-4404-8e82-1def428e987d"
      },
      "source": [
        "myset={}\n",
        "print(myset)\n",
        "print(type(myset))\n",
        "\n",
        "# so to be a set\n",
        "\n",
        "myset2=set({})\n",
        "print(myset2)\n",
        "print(type(myset2))"
      ],
      "execution_count": 10,
      "outputs": [
        {
          "output_type": "stream",
          "text": [
            "{}\n",
            "<class 'dict'>\n",
            "set()\n",
            "<class 'set'>\n"
          ],
          "name": "stdout"
        }
      ]
    },
    {
      "cell_type": "markdown",
      "metadata": {
        "id": "ijHIZEDG0oa-"
      },
      "source": [
        "Add Elements"
      ]
    },
    {
      "cell_type": "code",
      "metadata": {
        "colab": {
          "base_uri": "https://localhost:8080/"
        },
        "id": "4AZ7F9fP0TeK",
        "outputId": "ecba43e1-2c7b-46b4-947f-55472966c545"
      },
      "source": [
        "myset=set({})\n",
        "\n",
        "myset.add(1)\n",
        "myset.add(2)\n",
        "myset.add(3)\n",
        "\n",
        "print(myset)\n",
        "\n",
        "\n"
      ],
      "execution_count": 19,
      "outputs": [
        {
          "output_type": "stream",
          "text": [
            "{1, 2, 3}\n"
          ],
          "name": "stdout"
        }
      ]
    },
    {
      "cell_type": "markdown",
      "metadata": {
        "id": "e9qxSHgn1a11"
      },
      "source": [
        "Remove Elements"
      ]
    },
    {
      "cell_type": "markdown",
      "metadata": {
        "id": "NaaBsxjR1kj9"
      },
      "source": [
        "remove()"
      ]
    },
    {
      "cell_type": "code",
      "metadata": {
        "colab": {
          "base_uri": "https://localhost:8080/"
        },
        "id": "9cu7UFMn09j0",
        "outputId": "dc8f9fec-2cbd-4ef6-d507-65e1c91e3db1"
      },
      "source": [
        "myset=set({})\n",
        "\n",
        "myset.add(1)\n",
        "myset.add(2)\n",
        "myset.add(3)\n",
        "myset.remove(3)\n",
        "\n",
        "print(myset)"
      ],
      "execution_count": 17,
      "outputs": [
        {
          "output_type": "stream",
          "text": [
            "{1, 2}\n"
          ],
          "name": "stdout"
        }
      ]
    },
    {
      "cell_type": "markdown",
      "metadata": {
        "id": "9L8_YHVU1pLr"
      },
      "source": [
        "discard()"
      ]
    },
    {
      "cell_type": "code",
      "metadata": {
        "colab": {
          "base_uri": "https://localhost:8080/"
        },
        "id": "sBYOXoHl1oNQ",
        "outputId": "f72fd68b-22e1-4b4e-f1ce-7bd114e06410"
      },
      "source": [
        "myset=set({})\n",
        "\n",
        "myset.add(1)\n",
        "myset.add(2)\n",
        "myset.add(3)\n",
        "a=myset.discard(4)\n",
        "\n",
        "print(myset)"
      ],
      "execution_count": 20,
      "outputs": [
        {
          "output_type": "stream",
          "text": [
            "{1, 2, 3}\n"
          ],
          "name": "stdout"
        }
      ]
    },
    {
      "cell_type": "code",
      "metadata": {
        "colab": {
          "base_uri": "https://localhost:8080/"
        },
        "id": "8IBfuYSH1dOR",
        "outputId": "a9d3424f-94a6-4a46-f6f4-2e427ed48a95"
      },
      "source": [
        "myset=set({})\n",
        "\n",
        "myset.add(1)\n",
        "myset.add(2)\n",
        "myset.add(3)\n",
        "myset.discard(3)\n",
        "\n",
        "print(myset)"
      ],
      "execution_count": 22,
      "outputs": [
        {
          "output_type": "stream",
          "text": [
            "{1, 2}\n"
          ],
          "name": "stdout"
        }
      ]
    },
    {
      "cell_type": "code",
      "metadata": {
        "colab": {
          "base_uri": "https://localhost:8080/"
        },
        "id": "rXnQbdji2EaN",
        "outputId": "e7b36fd0-552d-42e4-af26-2b383d7f332d"
      },
      "source": [
        "print(myset)"
      ],
      "execution_count": 24,
      "outputs": [
        {
          "output_type": "stream",
          "text": [
            "{1, 2}\n"
          ],
          "name": "stdout"
        }
      ]
    },
    {
      "cell_type": "code",
      "metadata": {
        "colab": {
          "base_uri": "https://localhost:8080/"
        },
        "id": "8Dzp5l9U2q65",
        "outputId": "e56fdc48-47f8-4975-e709-222af9796ac8"
      },
      "source": [
        "myset=set({})\n",
        "\n",
        "myset.add(1)\n",
        "myset.add(2)\n",
        "myset.add(3)\n",
        "\n",
        "myset.clear()\n",
        "\n",
        "print(myset)"
      ],
      "execution_count": 25,
      "outputs": [
        {
          "output_type": "stream",
          "text": [
            "set()\n"
          ],
          "name": "stdout"
        }
      ]
    },
    {
      "cell_type": "code",
      "metadata": {
        "colab": {
          "base_uri": "https://localhost:8080/"
        },
        "id": "-4JawyVn3Cfx",
        "outputId": "3cecb9a7-e200-4f7d-d32b-43cb96ccb9ae"
      },
      "source": [
        "myset=set({})\n",
        "\n",
        "myset.add(1)\n",
        "myset.add(2)\n",
        "myset.add(3)\n",
        "\n",
        "print(myset.pop())\n",
        "print(myset)\n"
      ],
      "execution_count": 28,
      "outputs": [
        {
          "output_type": "stream",
          "text": [
            "1\n",
            "{2, 3}\n"
          ],
          "name": "stdout"
        }
      ]
    },
    {
      "cell_type": "markdown",
      "metadata": {
        "id": "RW33lJXg3dSh"
      },
      "source": [
        "TypeError: add() takes exactly one argument (2 given)"
      ]
    },
    {
      "cell_type": "code",
      "metadata": {
        "colab": {
          "base_uri": "https://localhost:8080/"
        },
        "id": "zdB1zgHh3do2",
        "outputId": "e5750ebf-7adf-4794-a5fa-91072a4886a3"
      },
      "source": [
        "myset=set({})\n",
        "\n",
        "myset.add(1)\n",
        "myset.add(2)\n",
        "myset.add(3)\n",
        "\n",
        "for i in myset:\n",
        "  print(i)"
      ],
      "execution_count": 29,
      "outputs": [
        {
          "output_type": "stream",
          "text": [
            "1\n",
            "2\n",
            "3\n"
          ],
          "name": "stdout"
        }
      ]
    },
    {
      "cell_type": "code",
      "metadata": {
        "colab": {
          "base_uri": "https://localhost:8080/"
        },
        "id": "r97hx8vr4sB-",
        "outputId": "10940998-b192-4d13-c9bd-351780309e10"
      },
      "source": [
        "if 1 in myset:\n",
        "  print(\"Yes\")"
      ],
      "execution_count": 31,
      "outputs": [
        {
          "output_type": "stream",
          "text": [
            "Yes\n"
          ],
          "name": "stdout"
        }
      ]
    },
    {
      "cell_type": "markdown",
      "metadata": {
        "id": "71YT_v345ctH"
      },
      "source": [
        "UNION"
      ]
    },
    {
      "cell_type": "code",
      "metadata": {
        "colab": {
          "base_uri": "https://localhost:8080/"
        },
        "id": "TWnBypSr4x5o",
        "outputId": "3b611765-de14-4dff-d2a4-d410e31512ea"
      },
      "source": [
        "odds={1,3,5,7,9}\n",
        "evens={0,2,4,6,8}\n",
        "primes={2,3,5,7}\n",
        "\n",
        "u=odds.union(evens)\n",
        "print(u)"
      ],
      "execution_count": 32,
      "outputs": [
        {
          "output_type": "stream",
          "text": [
            "{0, 1, 2, 3, 4, 5, 6, 7, 8, 9}\n"
          ],
          "name": "stdout"
        }
      ]
    },
    {
      "cell_type": "markdown",
      "metadata": {
        "id": "yXR-XH-n50w4"
      },
      "source": [
        "INTERSECTION"
      ]
    },
    {
      "cell_type": "code",
      "metadata": {
        "colab": {
          "base_uri": "https://localhost:8080/"
        },
        "id": "tcJ2X3fn5V0y",
        "outputId": "5663e5d7-6a74-4f85-d71f-96bf9b5056f8"
      },
      "source": [
        "odds={1,3,5,7,9}\n",
        "evens={0,2,4,6,8}\n",
        "primes={2,3,5,7}\n",
        "\n",
        "u=odds.intersection(evens)\n",
        "print(u)\n",
        "\n",
        "v=odds.intersection(primes)\n",
        "print(v)"
      ],
      "execution_count": 34,
      "outputs": [
        {
          "output_type": "stream",
          "text": [
            "set()\n",
            "{3, 5, 7}\n"
          ],
          "name": "stdout"
        }
      ]
    },
    {
      "cell_type": "markdown",
      "metadata": {
        "id": "Mnfn3yXl60US"
      },
      "source": [
        "DIFFERENCE"
      ]
    },
    {
      "cell_type": "code",
      "metadata": {
        "colab": {
          "base_uri": "https://localhost:8080/"
        },
        "id": "cxMse-Iy54Wm",
        "outputId": "f78eed9e-bb90-4eed-edfa-f500384edc51"
      },
      "source": [
        "setA={1,2,3,4,5,6,7,8,9}\n",
        "setB={1,2,3,10,11,12}\n",
        "\n",
        "diff=setA.difference(setB)\n",
        "print(diff)\n",
        "\n",
        "diff2=setB.difference(setA)\n",
        "print(diff2)"
      ],
      "execution_count": 36,
      "outputs": [
        {
          "output_type": "stream",
          "text": [
            "{4, 5, 6, 7, 8, 9}\n",
            "{10, 11, 12}\n"
          ],
          "name": "stdout"
        }
      ]
    },
    {
      "cell_type": "markdown",
      "metadata": {
        "id": "-j7dTd3-630L"
      },
      "source": [
        "SYMMETRIC DIFFERENCE"
      ]
    },
    {
      "cell_type": "code",
      "metadata": {
        "colab": {
          "base_uri": "https://localhost:8080/"
        },
        "id": "jMog-1sn6dHj",
        "outputId": "e07b7cce-232d-4cdb-bd0e-423a5971a36f"
      },
      "source": [
        "setA={1,2,3,4,5,6,7,8,9}\n",
        "setB={1,2,3,10,11,12}\n",
        "\n",
        "symdiff=setA.symmetric_difference(setB)\n",
        "print(symdiff)\n",
        "\n",
        "symdiff2=setB.symmetric_difference(setA)\n",
        "print(symdiff2)"
      ],
      "execution_count": 38,
      "outputs": [
        {
          "output_type": "stream",
          "text": [
            "{4, 5, 6, 7, 8, 9, 10, 11, 12}\n",
            "{4, 5, 6, 7, 8, 9, 10, 11, 12}\n"
          ],
          "name": "stdout"
        }
      ]
    },
    {
      "cell_type": "markdown",
      "metadata": {
        "id": "_YoRmocA76yx"
      },
      "source": [
        "## UPDATE"
      ]
    },
    {
      "cell_type": "code",
      "metadata": {
        "colab": {
          "base_uri": "https://localhost:8080/"
        },
        "id": "-K8A7QSY7JpX",
        "outputId": "b49ac31c-9ec0-4c5c-c78a-6e73ed68da96"
      },
      "source": [
        "setA={1,2,3,4,5,6,7,8,9}\n",
        "setB={1,2,3,10,11,12}\n",
        "\n",
        "setA.update(setB)\n",
        "print(setA)\n",
        "print(setB)"
      ],
      "execution_count": 40,
      "outputs": [
        {
          "output_type": "stream",
          "text": [
            "{1, 2, 3, 4, 5, 6, 7, 8, 9, 10, 11, 12}\n",
            "{1, 2, 3, 10, 11, 12}\n"
          ],
          "name": "stdout"
        }
      ]
    },
    {
      "cell_type": "markdown",
      "metadata": {
        "id": "KJWRKiBt-122"
      },
      "source": [
        "## INTERSECTION UPDATE"
      ]
    },
    {
      "cell_type": "code",
      "metadata": {
        "colab": {
          "base_uri": "https://localhost:8080/"
        },
        "id": "bsgs-GAx8ViC",
        "outputId": "c51bf1a7-1108-4a32-eb3d-fa8bc5a8704b"
      },
      "source": [
        "setA={1,2,3,4,5,6,7,8,9}\n",
        "setB={1,2,3,10,11,12}\n",
        "\n",
        "setA.intersection_update(setB)\n",
        "print(setA)"
      ],
      "execution_count": 41,
      "outputs": [
        {
          "output_type": "stream",
          "text": [
            "{1, 2, 3}\n"
          ],
          "name": "stdout"
        }
      ]
    },
    {
      "cell_type": "markdown",
      "metadata": {
        "id": "yihzNAa4-6Ca"
      },
      "source": [
        "## DIFFERENCE UPDATE"
      ]
    },
    {
      "cell_type": "code",
      "metadata": {
        "colab": {
          "base_uri": "https://localhost:8080/"
        },
        "id": "RxEbigbM9ajT",
        "outputId": "e1aea2b8-b601-4586-dea5-dfc480269dc2"
      },
      "source": [
        "setA={1,2,3,4,5,6,7,8,9}\n",
        "setB={1,2,3,10,11,12}\n",
        " \n",
        "setA.difference_update(setB)\n",
        "print(setA)"
      ],
      "execution_count": 42,
      "outputs": [
        {
          "output_type": "stream",
          "text": [
            "{4, 5, 6, 7, 8, 9}\n"
          ],
          "name": "stdout"
        }
      ]
    },
    {
      "cell_type": "markdown",
      "metadata": {
        "id": "ZvvrvQDv-995"
      },
      "source": [
        "## SYMMETRIC DIFFERENCE UPDATE"
      ]
    },
    {
      "cell_type": "code",
      "metadata": {
        "colab": {
          "base_uri": "https://localhost:8080/"
        },
        "id": "MghH4tm3-AwN",
        "outputId": "4ceaa1fd-195e-40dd-aa8a-c5943f7287d7"
      },
      "source": [
        "setA={1,2,3,4,5,6,7,8,9}\n",
        "setB={1,2,3,10,11,12}\n",
        " \n",
        "setA.symmetric_difference_update(setB)\n",
        "print(setA)"
      ],
      "execution_count": 43,
      "outputs": [
        {
          "output_type": "stream",
          "text": [
            "{4, 5, 6, 7, 8, 9, 10, 11, 12}\n"
          ],
          "name": "stdout"
        }
      ]
    },
    {
      "cell_type": "markdown",
      "metadata": {
        "id": "n2nMc7Zh_elA"
      },
      "source": [
        "## ISSUBSET"
      ]
    },
    {
      "cell_type": "code",
      "metadata": {
        "colab": {
          "base_uri": "https://localhost:8080/"
        },
        "id": "XXPcxM0M-bv4",
        "outputId": "1784b1a3-35e7-4b98-cb0d-79d867979dbe"
      },
      "source": [
        "setA={1,2,3,4,5,6,7,8,9}\n",
        "setB={1,2,3}\n",
        " \n",
        "print(setA.issubset(setB))\n",
        "print(setB.issubset(setA))"
      ],
      "execution_count": 45,
      "outputs": [
        {
          "output_type": "stream",
          "text": [
            "False\n",
            "True\n"
          ],
          "name": "stdout"
        }
      ]
    },
    {
      "cell_type": "markdown",
      "metadata": {
        "id": "Th-IOGou_-rp"
      },
      "source": [
        "## ISSUPERSET\n",
        "\n",
        "if set A has all the elements of set b then set a is superset of B"
      ]
    },
    {
      "cell_type": "code",
      "metadata": {
        "colab": {
          "base_uri": "https://localhost:8080/"
        },
        "id": "3lSdSV_L_3Kq",
        "outputId": "41e9dec5-601c-4d14-c490-d503dd9db3ac"
      },
      "source": [
        "setA={1,2,3,4,5,6,7,8,9}\n",
        "setB={1,2,3}\n",
        " \n",
        "print(setA.issuperset(setB))\n",
        "print(setB.issuperset(setA))"
      ],
      "execution_count": 46,
      "outputs": [
        {
          "output_type": "stream",
          "text": [
            "True\n",
            "False\n"
          ],
          "name": "stdout"
        }
      ]
    },
    {
      "cell_type": "markdown",
      "metadata": {
        "id": "rb7ce8VUASFO"
      },
      "source": [
        "## ISDISJOIN\n",
        "\n",
        "have same elements then false"
      ]
    },
    {
      "cell_type": "code",
      "metadata": {
        "colab": {
          "base_uri": "https://localhost:8080/"
        },
        "id": "gUqXfnmNAHPi",
        "outputId": "8f8350e9-0d50-4bee-c607-e48b3a0777b0"
      },
      "source": [
        "setA={1,2,3,4,5,6,7,8,9}\n",
        "setB={1,2,3}\n",
        "setC={7,8}\n",
        "\n",
        "print(setA.isdisjoint(setB))\n",
        "print(setB.isdisjoint(setA))\n",
        "print(setB.isdisjoint(setC))\n"
      ],
      "execution_count": 50,
      "outputs": [
        {
          "output_type": "stream",
          "text": [
            "False\n",
            "False\n",
            "True\n"
          ],
          "name": "stdout"
        }
      ]
    },
    {
      "cell_type": "markdown",
      "metadata": {
        "id": "uvNHESVyBag-"
      },
      "source": [
        "## making copy of set"
      ]
    },
    {
      "cell_type": "code",
      "metadata": {
        "colab": {
          "base_uri": "https://localhost:8080/"
        },
        "id": "tNpDLX1-Adyh",
        "outputId": "3d0d0512-87b8-47b3-93ef-2e1141836611"
      },
      "source": [
        "setA ={1,2,3,4,5,6}\n",
        "\n",
        "setB=setA\n",
        "\n",
        "setB.add(7)\n",
        "print(setB)\n",
        "print(setA)"
      ],
      "execution_count": 54,
      "outputs": [
        {
          "output_type": "stream",
          "text": [
            "{1, 2, 3, 4, 5, 6, 7}\n",
            "{1, 2, 3, 4, 5, 6, 7}\n"
          ],
          "name": "stdout"
        }
      ]
    },
    {
      "cell_type": "markdown",
      "metadata": {
        "id": "5kzi_h4jEy_B"
      },
      "source": [
        "making copy of the set without changing the original set"
      ]
    },
    {
      "cell_type": "code",
      "metadata": {
        "colab": {
          "base_uri": "https://localhost:8080/"
        },
        "id": "s32qjb2-BYY8",
        "outputId": "70e3b368-dbb8-4b3f-b7e3-47cee42a1168"
      },
      "source": [
        "setA ={1,2,3,4,5,6}\n",
        "\n",
        "setB=setA.copy()\n",
        "\n",
        "setB.add(7)\n",
        "print(setB)\n",
        "print(setA)"
      ],
      "execution_count": 59,
      "outputs": [
        {
          "output_type": "stream",
          "text": [
            "{1, 2, 3, 4, 5, 6, 7}\n",
            "{1, 2, 3, 4, 5, 6}\n"
          ],
          "name": "stdout"
        }
      ]
    },
    {
      "cell_type": "code",
      "metadata": {
        "colab": {
          "base_uri": "https://localhost:8080/"
        },
        "id": "nguTaR14EuVM",
        "outputId": "ba2b099e-d4bf-4398-940e-98ac83a86056"
      },
      "source": [
        "setA ={1,2,3,4,5,6}\n",
        "\n",
        "setB=set(setA)\n",
        "\n",
        "setB.add(7)\n",
        "print(setB)\n",
        "print(setA)"
      ],
      "execution_count": 60,
      "outputs": [
        {
          "output_type": "stream",
          "text": [
            "{1, 2, 3, 4, 5, 6, 7}\n",
            "{1, 2, 3, 4, 5, 6}\n"
          ],
          "name": "stdout"
        }
      ]
    },
    {
      "cell_type": "markdown",
      "metadata": {
        "id": "wvqJ83ZaFNDS"
      },
      "source": [
        "## frozenset() -  cant modify after initiation"
      ]
    },
    {
      "cell_type": "code",
      "metadata": {
        "colab": {
          "base_uri": "https://localhost:8080/"
        },
        "id": "INEat6E8FG2n",
        "outputId": "c3ffe18c-f830-48d7-e9b3-c5a2391c62c4"
      },
      "source": [
        "a = frozenset([1,2,3,4])\n",
        "print(a)"
      ],
      "execution_count": 61,
      "outputs": [
        {
          "output_type": "stream",
          "text": [
            "frozenset({1, 2, 3, 4})\n"
          ],
          "name": "stdout"
        }
      ]
    },
    {
      "cell_type": "code",
      "metadata": {
        "colab": {
          "base_uri": "https://localhost:8080/"
        },
        "id": "dx-fpumHFTdv",
        "outputId": "d80f87fb-08f8-4db3-d45b-ac5c080932ba"
      },
      "source": [
        "#a.add(1)\n",
        "#a.remove(2)\n",
        "print(a)\n",
        "#AttributeError: 'frozenset' object has no attribute 'add'\n",
        "#AttributeError: 'frozenset' object has no attribute 'remove'"
      ],
      "execution_count": 65,
      "outputs": [
        {
          "output_type": "stream",
          "text": [
            "frozenset({1, 2, 3, 4})\n"
          ],
          "name": "stdout"
        }
      ]
    }
  ]
}